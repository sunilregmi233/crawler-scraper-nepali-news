{
 "cells": [
  {
   "cell_type": "code",
   "execution_count": 140,
   "metadata": {},
   "outputs": [],
   "source": [
    "import requests\n",
    "from bs4 import BeautifulSoup\n",
    "\n",
    "def get_link(url):\n",
    "    getpage= requests.get(url)\n",
    "    sliced = url[8:-1]\n",
    "    getpage_soup= BeautifulSoup(getpage.text, 'html.parser')\n",
    "    with open(\"{sliced}.txt\".format(sliced=sliced), \"w\") as f:  \n",
    "        for a in getpage_soup.findAll('a', href=True):\n",
    "            L = {a['href'][8:]}\n",
    "            f.writelines([\"%s\\n\" %L  for item in L])\n",
    "\n",
    "if __name__ == \"__main__\":\n",
    "    url = [\"https://ekantipur.com/\",\"https://ratopati.com/\",\n",
    "           \"https://www.nayapatrikadaily.com/\",\"https://gorkhapatraonline.com/\",\"https://nagariknews.nagariknetwork.com/\"]\n",
    "    for i in url:\n",
    "        get_link(i)"
   ]
  },
  {
   "cell_type": "code",
   "execution_count": null,
   "metadata": {},
   "outputs": [],
   "source": [
    "\n",
    "\n"
   ]
  },
  {
   "cell_type": "code",
   "execution_count": 16,
   "metadata": {},
   "outputs": [],
   "source": []
  },
  {
   "cell_type": "code",
   "execution_count": 17,
   "metadata": {},
   "outputs": [],
   "source": []
  },
  {
   "cell_type": "code",
   "execution_count": 18,
   "metadata": {},
   "outputs": [],
   "source": []
  },
  {
   "cell_type": "code",
   "execution_count": 19,
   "metadata": {},
   "outputs": [],
   "source": [
    "\n"
   ]
  },
  {
   "cell_type": "code",
   "execution_count": null,
   "metadata": {},
   "outputs": [],
   "source": []
  },
  {
   "cell_type": "code",
   "execution_count": null,
   "metadata": {},
   "outputs": [],
   "source": []
  }
 ],
 "metadata": {
  "kernelspec": {
   "display_name": "Python 3",
   "language": "python",
   "name": "python3"
  }
 },
 "nbformat": 4,
 "nbformat_minor": 4
}
