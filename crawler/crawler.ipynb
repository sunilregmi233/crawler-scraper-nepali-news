{
 "cells": [
  {
   "cell_type": "code",
   "execution_count": 10,
   "metadata": {},
   "outputs": [],
   "source": [
    "import requests\n",
    "from bs4 import BeautifulSoup\n",
    "\n",
    "\n",
    "def get_link(url):\n",
    "    getpage= requests.get(url)\n",
    "    sliced = url[8:-5]\n",
    "    h_links=[]\n",
    "    a_links = []\n",
    "    getpage_soup= BeautifulSoup(getpage.text, 'html.parser')\n",
    "    with open(\"{sliced}.txt\".format(sliced=sliced), \"a+\") as f: \n",
    "        for a in getpage_soup.findAll('a', href=True):\n",
    "            links= a['href']\n",
    "            f.writelines({\"%s\\n\" %links for item in links})\n",
    "            if url in links:\n",
    "                a_links.append(links)\n",
    "              \n",
    "                \n",
    "            elif url not in links:\n",
    "                h_links.append(links)\n",
    "              \n",
    "        authority = len(a_links) \n",
    "        hub = len(h_links) \n",
    "        f.writelines(\"The number of links as authority: \" +str(authority) + \"\\n\")\n",
    "        f.writelines(\"The number of links as hub: \" +str(hub))\n",
    "  \n",
    "        \n",
    "\n",
    "\n",
    "if __name__ == \"__main__\":\n",
    "    url = [\"https://ekantipur.com/\",\n",
    "          \"https://nepalnews.com/\",\n",
    "          \"https://setopati.com/\",\n",
    "          \"https://souryaonline.com/\"]\n",
    "    for i in url:\n",
    "        get_link(i)\n"
   ]
  },
  {
   "cell_type": "code",
   "execution_count": 9,
   "metadata": {},
   "outputs": [],
   "source": []
  },
  {
   "cell_type": "code",
   "execution_count": 36,
   "metadata": {},
   "outputs": [],
   "source": []
  },
  {
   "cell_type": "code",
   "execution_count": null,
   "metadata": {},
   "outputs": [],
   "source": []
  },
  {
   "cell_type": "code",
   "execution_count": 18,
   "metadata": {},
   "outputs": [],
   "source": []
  },
  {
   "cell_type": "code",
   "execution_count": 19,
   "metadata": {},
   "outputs": [],
   "source": [
    "\n"
   ]
  },
  {
   "cell_type": "code",
   "execution_count": null,
   "metadata": {},
   "outputs": [],
   "source": []
  },
  {
   "cell_type": "code",
   "execution_count": null,
   "metadata": {},
   "outputs": [],
   "source": []
  }
 ],
 "metadata": {
  "kernelspec": {
   "display_name": "Python 3",
   "language": "python",
   "name": "python3"
  },
  "language_info": {
   "codemirror_mode": {
    "name": "ipython",
    "version": 3
   },
   "file_extension": ".py",
   "mimetype": "text/x-python",
   "name": "python",
   "nbconvert_exporter": "python",
   "pygments_lexer": "ipython3",
   "version": "3.8.5"
  }
 },
 "nbformat": 4,
 "nbformat_minor": 4
}
