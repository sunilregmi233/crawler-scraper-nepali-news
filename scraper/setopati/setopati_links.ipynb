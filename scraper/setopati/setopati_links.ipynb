{
 "cells": [
  {
   "cell_type": "code",
   "execution_count": null,
   "metadata": {},
   "outputs": [],
   "source": [
    "import requests\n",
    "from bs4 import BeautifulSoup\n",
    "from datetime import date, timedelta\n",
    "import re\n",
    "\n",
    "# with open('nepalnews_links.txt', \"w\") as f:\n",
    "for i in range(1, 50):\n",
    "    with open('setipati_links.txt', \"a+\") as f:\n",
    "        url = \"https://www.setopati.com/sports?page=\" + str(i)\n",
    "        getpage= requests.get(url)\n",
    "        soup= BeautifulSoup(getpage.text, 'html.parser')\n",
    "        ingredients = [ingredient for ingredient in soup.select('div.items a')]\n",
    "        \n",
    "        for j in ingredients:\n",
    "            con = j['href']\n",
    "            f.writelines(con + \"\\n\")\n",
    "        f.close()\n",
    "\n",
    "\n",
    "        "
   ]
  },
  {
   "cell_type": "code",
   "execution_count": null,
   "metadata": {},
   "outputs": [],
   "source": [
    "# url = \"https://www.setopati.com/sports?page=2\" \n",
    "# getpage= requests.get(url)\n",
    "# soup= BeautifulSoup(getpage.text, 'html.parser')\n",
    "# ingredients = [ingredient for ingredient in soup.select('div.items a')]\n",
    "\n",
    "# for j in ingredients:\n",
    "#     con = j['href']\n",
    "#     print(con)"
   ]
  },
  {
   "cell_type": "code",
   "execution_count": null,
   "metadata": {},
   "outputs": [],
   "source": []
  }
 ],
 "metadata": {
  "kernelspec": {
   "display_name": "Python 3",
   "language": "python",
   "name": "python3"
  },
  "language_info": {
   "codemirror_mode": {
    "name": "ipython",
    "version": 3
   },
   "file_extension": ".py",
   "mimetype": "text/x-python",
   "name": "python",
   "nbconvert_exporter": "python",
   "pygments_lexer": "ipython3",
   "version": "3.8.5"
  }
 },
 "nbformat": 4,
 "nbformat_minor": 4
}
