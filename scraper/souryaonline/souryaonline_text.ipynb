{
 "cells": [
  {
   "cell_type": "code",
   "execution_count": null,
   "metadata": {},
   "outputs": [],
   "source": [
    "import requests\n",
    "from bs4 import BeautifulSoup\n",
    "from datetime import date, timedelta\n",
    "\n",
    "\n",
    "def get_data(url):\n",
    "    with open(\"souryaonline_text.txt\", \"a+\") as f:\n",
    "        getpage= requests.get(url)\n",
    "        soup = BeautifulSoup(getpage.text, 'html.parser')\n",
    "        content = soup.find(\"div\", attrs = {\"class\": \"incon_sec\"})\n",
    "        children = content.findChildren(\"p\" , recursive=False)\n",
    "        for child in children:\n",
    "            text = child.getText()\n",
    "            f.write(text)\n",
    "        f.close()\n",
    "    \n",
    "if __name__ == \"__main__\":\n",
    "    urls = []\n",
    "    with open('souryaonline_links.txt', \"r\") as f:\n",
    "        urls = f.read().splitlines()\n",
    "    for i in urls:\n",
    "        get_data(i)\n",
    "        "
   ]
  },
  {
   "cell_type": "code",
   "execution_count": null,
   "metadata": {},
   "outputs": [],
   "source": []
  },
  {
   "cell_type": "code",
   "execution_count": 2,
   "metadata": {},
   "outputs": [],
   "source": []
  },
  {
   "cell_type": "code",
   "execution_count": null,
   "metadata": {},
   "outputs": [],
   "source": []
  },
  {
   "cell_type": "code",
   "execution_count": null,
   "metadata": {},
   "outputs": [],
   "source": []
  }
 ],
 "metadata": {
  "kernelspec": {
   "display_name": "Python 3",
   "language": "python",
   "name": "python3"
  },
  "language_info": {
   "codemirror_mode": {
    "name": "ipython",
    "version": 3
   },
   "file_extension": ".py",
   "mimetype": "text/x-python",
   "name": "python",
   "nbconvert_exporter": "python",
   "pygments_lexer": "ipython3",
   "version": "3.8.5"
  }
 },
 "nbformat": 4,
 "nbformat_minor": 4
}
